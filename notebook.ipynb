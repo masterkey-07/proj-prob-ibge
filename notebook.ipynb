{
 "cells": [
  {
   "cell_type": "code",
   "execution_count": 86,
   "metadata": {},
   "outputs": [],
   "source": [
    "import re\n",
    "from pandas import read_csv"
   ]
  },
  {
   "cell_type": "code",
   "execution_count": 145,
   "metadata": {},
   "outputs": [],
   "source": [
    "# Coleta e Tratamento dos Dados\n",
    "\n",
    "dados = read_csv('./dados.csv')\n",
    "\n",
    "columns = list(dados.columns)[2:]\n",
    "\n",
    "dados = dados[dados['Região'] != 'Grande Vitória (ES)']\n",
    "\n",
    "dados['Ano'] =  dados['Mês'].apply(lambda mes: re.findall('\\d{4}',mes) [0])\n",
    "\n",
    "dados['Mês'] = dados['Mês'].apply(lambda mes: re.findall('\\w+', mes)[0])\n",
    "\n",
    "for column in columns:\n",
    "    dados[column] = dados[column].apply(lambda value: value.replace(',', '.')).astype(float)\n",
    "    "
   ]
  },
  {
   "cell_type": "code",
   "execution_count": 150,
   "metadata": {},
   "outputs": [],
   "source": [
    "# Calculo do IPCA Mensal\n",
    "\n",
    "IPCA = dados['Alimentação'] * (dados['Alimentação (Peso)']/ 100)\n",
    "\n",
    "for index in range(1,9):\n",
    "    IPCA = IPCA + (dados[columns[index]] * (dados[columns[index + 9]] / 100))\n",
    "\n",
    "dados['IPCA'] = IPCA / 9"
   ]
  },
  {
   "cell_type": "code",
   "execution_count": 157,
   "metadata": {},
   "outputs": [],
   "source": [
    "# Agrupando os Dados\n",
    "\n",
    "agrupado_regiao = dados.groupby('Região')\n",
    "agrupado_ano = dados.groupby('Ano')"
   ]
  }
 ],
 "metadata": {
  "kernelspec": {
   "display_name": "venv",
   "language": "python",
   "name": "python3"
  },
  "language_info": {
   "codemirror_mode": {
    "name": "ipython",
    "version": 3
   },
   "file_extension": ".py",
   "mimetype": "text/x-python",
   "name": "python",
   "nbconvert_exporter": "python",
   "pygments_lexer": "ipython3",
   "version": "3.11.0"
  },
  "orig_nbformat": 4
 },
 "nbformat": 4,
 "nbformat_minor": 2
}
