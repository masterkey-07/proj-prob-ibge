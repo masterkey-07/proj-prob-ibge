{
 "cells": [
  {
   "cell_type": "code",
   "execution_count": 86,
   "metadata": {},
   "outputs": [],
   "source": [
    "import re\n",
    "from pandas import read_csv"
   ]
  },
  {
   "attachments": {},
   "cell_type": "markdown",
   "metadata": {},
   "source": [
    "### Colunas\n",
    "- Região\n",
    "- Mês\n",
    "- Alimentação\n",
    "- Habitação\n",
    "- Residência\n",
    "- Vestuário\n",
    "- Transportes\n",
    "- Saúde\n",
    "- Despesas Pessoais\n",
    "- Educação\n",
    "- Comunicação\n",
    "- Alimentação (Peso)\n",
    "- Habitação (Peso)\n",
    "- Residência (Peso)\n",
    "- Vestuário (Peso)\n",
    "- Transportes (Peso)\n",
    "- Saúde (Peso)\n",
    "- Despesas Pessoais (Peso)\n",
    "- Educação (Peso)\n",
    "- Comunicação (Peso)"
   ]
  },
  {
   "cell_type": "code",
   "execution_count": 145,
   "metadata": {},
   "outputs": [],
   "source": [
    "dados = read_csv('./dados.csv')\n",
    "\n",
    "columns = list(dados.columns)[2:]\n",
    "\n",
    "dados = dados[dados['Região'] != 'Grande Vitória (ES)']\n",
    "\n",
    "dados['Ano'] =  dados['Mês'].apply(lambda mes: re.findall('\\d{4}',mes) [0])\n",
    "\n",
    "dados['Mês'] = dados['Mês'].apply(lambda mes: re.findall('\\w+', mes)[0])\n",
    "\n",
    "for column in columns:\n",
    "    dados[column] = dados[column].apply(lambda value: value.replace(',', '.')).astype(float)\n",
    "    "
   ]
  },
  {
   "cell_type": "code",
   "execution_count": 150,
   "metadata": {},
   "outputs": [],
   "source": [
    "IPCA = dados['Alimentação'] * (dados['Alimentação (Peso)']/ 100)\n",
    "\n",
    "for index in range(1,9):\n",
    "    IPCA = IPCA + (dados[columns[index]] * (dados[columns[index + 9]] / 100))\n",
    "\n",
    "dados['IPCA'] = IPCA / 9"
   ]
  },
  {
   "cell_type": "code",
   "execution_count": 156,
   "metadata": {},
   "outputs": [
    {
     "data": {
      "text/plain": [
       "Ano\n",
       "2012     6.195962\n",
       "2013     5.746852\n",
       "2014     6.230474\n",
       "2015    10.184569\n",
       "2016     6.410034\n",
       "2017     2.578996\n",
       "2018     3.587676\n",
       "2019     4.265869\n",
       "Name: IPCA, dtype: float64"
      ]
     },
     "execution_count": 156,
     "metadata": {},
     "output_type": "execute_result"
    }
   ],
   "source": [
    "agrupado_regiao = dados.groupby('Região')\n",
    "agrupado_ano = dados.groupby('Ano')\n",
    "\n",
    "agrupado_ano['IPCA'].sum()"
   ]
  }
 ],
 "metadata": {
  "kernelspec": {
   "display_name": "venv",
   "language": "python",
   "name": "python3"
  },
  "language_info": {
   "codemirror_mode": {
    "name": "ipython",
    "version": 3
   },
   "file_extension": ".py",
   "mimetype": "text/x-python",
   "name": "python",
   "nbconvert_exporter": "python",
   "pygments_lexer": "ipython3",
   "version": "3.11.0"
  },
  "orig_nbformat": 4
 },
 "nbformat": 4,
 "nbformat_minor": 2
}
